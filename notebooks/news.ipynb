{
 "cells": [
  {
   "cell_type": "code",
   "execution_count": null,
   "metadata": {},
   "outputs": [],
   "source": []
  },
  {
   "cell_type": "code",
   "execution_count": 4,
   "metadata": {},
   "outputs": [
    {
     "data": {
      "text/html": [
       "<div>\n",
       "<style scoped>\n",
       "    .dataframe tbody tr th:only-of-type {\n",
       "        vertical-align: middle;\n",
       "    }\n",
       "\n",
       "    .dataframe tbody tr th {\n",
       "        vertical-align: top;\n",
       "    }\n",
       "\n",
       "    .dataframe thead th {\n",
       "        text-align: right;\n",
       "    }\n",
       "</style>\n",
       "<table border=\"1\" class=\"dataframe\">\n",
       "  <thead>\n",
       "    <tr style=\"text-align: right;\">\n",
       "      <th></th>\n",
       "      <th>text</th>\n",
       "      <th>timestamp</th>\n",
       "      <th>url</th>\n",
       "    </tr>\n",
       "  </thead>\n",
       "  <tbody>\n",
       "    <tr>\n",
       "      <th>0</th>\n",
       "      <td>Partier på begge sider presser regeringen: Pol...</td>\n",
       "      <td>2019-10-20T11:27:01Z</td>\n",
       "      <td>https://nyheder.tv2.dk/politik/2019-10-08-part...</td>\n",
       "    </tr>\n",
       "    <tr>\n",
       "      <th>1</th>\n",
       "      <td>- Det er helt grotesk, at nogle mennesker disk...</td>\n",
       "      <td>2019-12-16T08:39:15Z</td>\n",
       "      <td>https://nyheder.tv2.dk/lokalt/2016-09-27-det-e...</td>\n",
       "    </tr>\n",
       "    <tr>\n",
       "      <th>2</th>\n",
       "      <td>Kan klimapolitik afgøre valget? Noget tyder på...</td>\n",
       "      <td>2019-06-24T14:30:44Z</td>\n",
       "      <td>http://nyheder.tv2.dk/politik/2019-05-25-kan-k...</td>\n",
       "    </tr>\n",
       "    <tr>\n",
       "      <th>3</th>\n",
       "      <td>BLOG: Mit universitet i USA er en del af histo...</td>\n",
       "      <td>2019-03-25T12:05:47Z</td>\n",
       "      <td>http://nyheder.tv2.dk/politik/2019-03-13-blog-...</td>\n",
       "    </tr>\n",
       "    <tr>\n",
       "      <th>4</th>\n",
       "      <td>To mænd fik coronabøde for at vente på bussen ...</td>\n",
       "      <td>2020-05-28T05:07:00Z</td>\n",
       "      <td>https://nyheder.tv2.dk/samfund/2020-04-27-to-m...</td>\n",
       "    </tr>\n",
       "    <tr>\n",
       "      <th>5</th>\n",
       "      <td>Millioner af batterier bliver aldrig genanvend...</td>\n",
       "      <td>2019-09-20T06:03:49Z</td>\n",
       "      <td>https://nyheder.tv2.dk/samfund/2019-04-28-mill...</td>\n",
       "    </tr>\n",
       "    <tr>\n",
       "      <th>6</th>\n",
       "      <td>Tusindvis af jobs er forsvundet de seneste uge...</td>\n",
       "      <td>2020-05-28T04:54:02Z</td>\n",
       "      <td>https://nyheder.tv2.dk/business/2020-04-15-tus...</td>\n",
       "    </tr>\n",
       "  </tbody>\n",
       "</table>\n",
       "</div>"
      ],
      "text/plain": [
       "                                                text             timestamp  \\\n",
       "0  Partier på begge sider presser regeringen: Pol...  2019-10-20T11:27:01Z   \n",
       "1  - Det er helt grotesk, at nogle mennesker disk...  2019-12-16T08:39:15Z   \n",
       "2  Kan klimapolitik afgøre valget? Noget tyder på...  2019-06-24T14:30:44Z   \n",
       "3  BLOG: Mit universitet i USA er en del af histo...  2019-03-25T12:05:47Z   \n",
       "4  To mænd fik coronabøde for at vente på bussen ...  2020-05-28T05:07:00Z   \n",
       "5  Millioner af batterier bliver aldrig genanvend...  2019-09-20T06:03:49Z   \n",
       "6  Tusindvis af jobs er forsvundet de seneste uge...  2020-05-28T04:54:02Z   \n",
       "\n",
       "                                                 url  \n",
       "0  https://nyheder.tv2.dk/politik/2019-10-08-part...  \n",
       "1  https://nyheder.tv2.dk/lokalt/2016-09-27-det-e...  \n",
       "2  http://nyheder.tv2.dk/politik/2019-05-25-kan-k...  \n",
       "3  http://nyheder.tv2.dk/politik/2019-03-13-blog-...  \n",
       "4  https://nyheder.tv2.dk/samfund/2020-04-27-to-m...  \n",
       "5  https://nyheder.tv2.dk/samfund/2019-04-28-mill...  \n",
       "6  https://nyheder.tv2.dk/business/2020-04-15-tus...  "
      ]
     },
     "execution_count": 4,
     "metadata": {},
     "output_type": "execute_result"
    }
   ],
   "source": [
    "from notebooks import Config\n",
    "import pandas as pd\n",
    "\n",
    "config = Config()\n",
    "\n",
    "df = pd.read_csv(config.PATH_DATA.joinpath(\"news2.csv\"))\n",
    "# df = pd.read_csv(config.PATH_DATA.joinpath(\"df_triplets.csv\"))\n",
    "df"
   ]
  }
 ],
 "metadata": {
  "kernelspec": {
   "display_name": "Python 3.9.13 64-bit",
   "language": "python",
   "name": "python3"
  },
  "language_info": {
   "codemirror_mode": {
    "name": "ipython",
    "version": 3
   },
   "file_extension": ".py",
   "mimetype": "text/x-python",
   "name": "python",
   "nbconvert_exporter": "python",
   "pygments_lexer": "ipython3",
   "version": "3.9.13"
  },
  "orig_nbformat": 4,
  "vscode": {
   "interpreter": {
    "hash": "aee8b7b246df8f9039afb4144a1f6fd8d2ca17a180786b69acc140d282b71a49"
   }
  }
 },
 "nbformat": 4,
 "nbformat_minor": 2
}
