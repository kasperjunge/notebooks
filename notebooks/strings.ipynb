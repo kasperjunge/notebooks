{
 "cells": [
  {
   "cell_type": "code",
   "execution_count": 3,
   "metadata": {},
   "outputs": [],
   "source": [
    "import sys\n",
    "sys.path.append(\"../src\")\n",
    "\n",
    "import pandas as pd\n",
    "from tqdm import tqdm\n",
    "from notebooks.strings.preprocessing import SentenceTokenizer, StringCleaner\n",
    "tqdm.pandas()\n",
    "df = pd.read_csv(\"../data/news.csv\")"
   ]
  },
  {
   "cell_type": "markdown",
   "metadata": {},
   "source": [
    "# Cleaner"
   ]
  },
  {
   "cell_type": "code",
   "execution_count": 21,
   "metadata": {},
   "outputs": [
    {
     "name": "stderr",
     "output_type": "stream",
     "text": [
      "100%|██████████| 14120/14120 [00:02<00:00, 4721.60it/s]\n"
     ]
    }
   ],
   "source": [
    "%autoreload\n",
    "\n",
    "cleaner = StringCleaner()\n",
    "\n",
    "df[\"text\"] = df[\"text\"].progress_apply(cleaner)"
   ]
  },
  {
   "cell_type": "markdown",
   "metadata": {},
   "source": [
    "# Sentence Tokenization"
   ]
  },
  {
   "cell_type": "code",
   "execution_count": 39,
   "metadata": {},
   "outputs": [
    {
     "name": "stderr",
     "output_type": "stream",
     "text": [
      "100%|██████████| 14120/14120 [00:00<00:00, 38978.16it/s]\n"
     ]
    }
   ],
   "source": [
    "%autoreload\n",
    "\n",
    "tokenizer = SentenceTokenizer()\n",
    "\n",
    "df[\"sentences\"] = df[\"text\"].progress_apply(tokenizer)"
   ]
  },
  {
   "cell_type": "code",
   "execution_count": 41,
   "metadata": {},
   "outputs": [
    {
     "name": "stdout",
     "output_type": "stream",
     "text": [
      "Ny aftale landet i nat: Nu er det helt slut med roaming-afgifter i EU - TV 2\n",
      "1.\n",
      "\n",
      "feb.\n",
      "\n",
      "2017, 04:59 Opd.\n",
      "\n",
      "1.\n",
      "\n",
      "feb.\n",
      "\n",
      "2017, 08:34\n",
      "Jens Rohde kalder det for en sejr for forbrugerne.\n",
      "\n",
      "Foto: KAREN BLEIER / Scanpix Denmark\n",
      "DENNE ARTIKEL ER RETTET - SE INFO NEDERST\n",
      "I nat nåede man til enighed om, at selskaberne skal kompenseres med 7,7 euro per gigabyte data, svarende til 57 kroner.\n",
      "\n",
      "Denne takst sænkes gradvist frem mod 2021, hvor den ender på 2,5 euro.\n",
      "\n",
      "RETTELSE: Ritzau oplyste i første udgave af denne artikel, at selskaberne ville blive kompenseret med 7,7 eurocent per gigabyte date svarende til 50 øre.\n",
      "\n",
      "Dette var en fejl.\n",
      "\n",
      "Ritzau oplyser nu at tallene i stedet er 7,7 euro per gigabyte svarende til 57 kroner.\n",
      "\n",
      "Første sommerferie med nye regler: Er din mobil klar til ferien?.\n",
      "\n"
     ]
    }
   ],
   "source": [
    "s = df.sample(1)\n",
    "for sentence in s[\"sentences\"].iloc[0]:\n",
    "    print(sentence)\n",
    "    print()"
   ]
  },
  {
   "cell_type": "code",
   "execution_count": null,
   "metadata": {},
   "outputs": [],
   "source": []
  },
  {
   "cell_type": "code",
   "execution_count": null,
   "metadata": {},
   "outputs": [],
   "source": []
  }
 ],
 "metadata": {
  "kernelspec": {
   "display_name": "Python 3.9.13 64-bit",
   "language": "python",
   "name": "python3"
  },
  "language_info": {
   "codemirror_mode": {
    "name": "ipython",
    "version": 3
   },
   "file_extension": ".py",
   "mimetype": "text/x-python",
   "name": "python",
   "nbconvert_exporter": "python",
   "pygments_lexer": "ipython3",
   "version": "3.9.13"
  },
  "orig_nbformat": 4,
  "vscode": {
   "interpreter": {
    "hash": "aee8b7b246df8f9039afb4144a1f6fd8d2ca17a180786b69acc140d282b71a49"
   }
  }
 },
 "nbformat": 4,
 "nbformat_minor": 2
}
